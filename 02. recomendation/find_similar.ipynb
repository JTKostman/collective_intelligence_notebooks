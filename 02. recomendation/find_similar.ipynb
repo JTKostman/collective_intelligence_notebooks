{
 "cells": [
  {
   "cell_type": "code",
   "execution_count": 25,
   "metadata": {
    "collapsed": true
   },
   "outputs": [],
   "source": [
    "import matplotlib\n",
    "import matplotlib.pyplot as plt\n",
    "%matplotlib inline\n",
    "\n",
    "from recommendations import critics"
   ]
  },
  {
   "cell_type": "markdown",
   "metadata": {},
   "source": [
    "### Отыскание похожих пользователей"
   ]
  },
  {
   "cell_type": "markdown",
   "metadata": {},
   "source": [
    "#### По евклидову расстоянию"
   ]
  },
  {
   "cell_type": "markdown",
   "metadata": {},
   "source": [
    "Расстояние, вычисленное по формуле $\\sqrt{a^2+b^2}$ тем меньше, чем больще сходство между людьми. Но нам нужна функция, значения которой тем больше, чем более похожи люди друг на друга. Поэтому возьмем функцию $\\frac{1}{1+\\sqrt{a^2+b^2}}$"
   ]
  },
  {
   "cell_type": "code",
   "execution_count": 57,
   "metadata": {
    "collapsed": false
   },
   "outputs": [
    {
     "data": {
      "image/png": "[encoded data removed]",
      "text/plain": [
       "<matplotlib.figure.Figure at 0x7fe57dee8d50>"
      ]
     },
     "metadata": {},
     "output_type": "display_data"
    }
   ],
   "source": [
    "def show_film_to_film_scatter(prefs, x_film, y_film):\n",
    "    x_dict = dict(\n",
    "        [(p, prefs[p][x_film]) for p in prefs if x_film in prefs[p]])\n",
    "    y_dict = dict(\n",
    "        [(p, prefs[p][y_film]) for p in prefs if y_film in prefs[p]])\n",
    "    keys_x = set(x_dict.keys())\n",
    "    keys_y = set(y_dict.keys())\n",
    "    intersection = keys_x & keys_y\n",
    "    \n",
    "    plt.figure(figsize=(6, 6))\n",
    "    for key in intersection:\n",
    "        x, y = x_dict[key], y_dict[key]\n",
    "        plt.scatter(x, y)\n",
    "        plt.annotate(key, xy = (x, y),xytext = (-5, 5),\n",
    "            textcoords = 'offset points', ha = 'right', va = 'bottom')\n",
    "\n",
    "    plt.xlabel(x_film)\n",
    "    plt.ylabel(y_film)\n",
    "    plt.xlim(0, 5.5)\n",
    "    plt.ylim(0, 5.5)\n",
    "    plt.show()\n",
    "\n",
    "show_film_to_film_scatter(critics, \n",
    "                          'You, Me and Dupree', 'Snakes on a Plane')"
   ]
  },
  {
   "cell_type": "code",
   "execution_count": 22,
   "metadata": {
    "collapsed": false
   },
   "outputs": [],
   "source": [
    "from math import sqrt\n",
    "\n",
    "#Возвращает оценку подобия person1 и person2 на основе евклидова расстояния\n",
    "def sim_distance(prefs, p1, p2):\n",
    "    #получить список предметов, оцененных обоими\n",
    "    si = [pow(prefs[p1][item] - prefs[p2][item], 2) \n",
    "          for item in prefs[p1] if item in prefs[p2]]\n",
    "    #если нет ни одной общей оценки, то возвращаем 0\n",
    "    if len(si) == 0: return 0\n",
    "    return 1 / (1 + sqrt(sum(si)))\n",
    "        "
   ]
  },
  {
   "cell_type": "code",
   "execution_count": 23,
   "metadata": {
    "collapsed": false
   },
   "outputs": [
    {
     "data": {
      "text/plain": [
       "0.38742588672279304"
      ]
     },
     "execution_count": 23,
     "metadata": {},
     "output_type": "execute_result"
    }
   ],
   "source": [
    "sim_distance(critics, 'Michael Phillips', 'Toby')"
   ]
  },
  {
   "cell_type": "markdown",
   "metadata": {},
   "source": [
    "#### Коэффициент корреляции Пирсона"
   ]
  },
  {
   "cell_type": "markdown",
   "metadata": {},
   "source": [
    "Коэффициент корреляции - мера того, как хорошо два набора данных ложатся на одну прямую (мера линейной зависимости). Он дает лучшие результаты в случае, если данные плохо нормализованы, например, когда один критик стабильно выставляет более низкие оценки"
   ]
  },
  {
   "cell_type": "code",
   "execution_count": 56,
   "metadata": {
    "collapsed": false
   },
   "outputs": [
    {
     "data": {
      "image/png": "[encoded data removed]",
      "text/plain": [
       "<matplotlib.figure.Figure at 0x7fe57dee8110>"
      ]
     },
     "metadata": {},
     "output_type": "display_data"
    }
   ],
   "source": [
    "def show_person_to_person_scatter(prefs, px, py):\n",
    "    x_dict = prefs[px]\n",
    "    y_dict = prefs[py]\n",
    "    keys_x = set(x_dict.keys())\n",
    "    keys_y = set(y_dict.keys())\n",
    "    intersection = keys_x & keys_y\n",
    "    \n",
    "    plt.figure(figsize=(6, 6))\n",
    "    for key in intersection:\n",
    "        x, y = x_dict[key], y_dict[key]\n",
    "        plt.scatter(x, y)\n",
    "        plt.annotate(key, xy = (x, y), xytext = (-5, 5),\n",
    "            textcoords = 'offset points', ha = 'right', va = 'bottom')\n",
    "\n",
    "    plt.xlabel(px)\n",
    "    plt.ylabel(py)\n",
    "    plt.xlim(0, 5.5)\n",
    "    plt.ylim(0, 5.5)\n",
    "    plt.show()\n",
    "    \n",
    "show_person_to_person_scatter(critics, 'Mick LaSalle', 'Gene Seymour')"
   ]
  },
  {
   "cell_type": "markdown",
   "metadata": {},
   "source": [
    "$$r_{XY} = \\frac{cov(X, Y)}{\\sqrt{D[X]*D[Y]}} \n",
    "= \\frac{E[XY] - E[X] * E[Y]}{\\sqrt{(E[X^2]-E^2[X])*(E[Y^2]-E^2[Y])}} \n",
    "= \\frac{\\frac{\\sum{X_i*Y_i}}{n} - \\frac{\\sum{X_i}*\\sum{Y_i}}{n^2}}\n",
    "{\\sqrt{\n",
    "    (\\frac{\\sum{X^2_i}}{n} - \\frac{(\\sum{X_i})^2}{n^2}) * \n",
    "    (\\frac{\\sum{Y^2_i}}{n} - \\frac{(\\sum{Y_i})^2}{n^2})\n",
    "}}\n",
    "= \\frac\n",
    "    {\\frac{1}{n} * (\\sum{X_i*Y_i} - \\frac{\\sum{X_i}*\\sum{Y_i}}{n})}\n",
    "    {\n",
    "        \\frac{1}{n} * \\sqrt{\n",
    "            (\\sum{X^2_i} - \\frac{(\\sum{X_i})^2}{n}) * \n",
    "            (\\sum{Y^2_i} - \\frac{(\\sum{Y_i})^2}{n})\n",
    "        }\n",
    "    }\n",
    "= \\frac\n",
    "    {\\sum{X_i*Y_i} - \\frac{\\sum{X_i}*\\sum{Y_i}}{n}}\n",
    "    {\\sqrt{\n",
    "        (\\sum{X^2_i} - \\frac{(\\sum{X_i})^2}{n}) * \n",
    "        (\\sum{Y^2_i} - \\frac{(\\sum{Y_i})^2}{n})\n",
    "    }}\n",
    "$$"
   ]
  },
  {
   "cell_type": "code",
   "execution_count": 76,
   "metadata": {
    "collapsed": false
   },
   "outputs": [],
   "source": [
    "import numpy as np\n",
    "\n",
    "#возвращает коэффициент корелляции Пирсона между критиками p1 и p2\n",
    "def sim_pearson(prefs, p1, p2):\n",
    "    si = dict([(item, 1) for item in prefs[p1] if item in prefs[p2]])\n",
    "    n = len (si)\n",
    "    if n == 0: return 0\n",
    "    v1 = np.array([prefs[p1][it] for it in si])\n",
    "    v2 = np.array([prefs[p2][it] for it in si])\n",
    "    norm1 = v1 - v1.mean()\n",
    "    norm2 = v2 - v2.mean()\n",
    "    num = norm1.dot(norm2)\n",
    "    den = sqrt(norm1.dot(norm1) * norm2.dot(norm2))\n",
    "    if den == 0: return 0\n",
    "    return num / den"
   ]
  },
  {
   "cell_type": "code",
   "execution_count": 77,
   "metadata": {
    "collapsed": false
   },
   "outputs": [
    {
     "data": {
      "text/plain": [
       "0.39605901719066977"
      ]
     },
     "execution_count": 77,
     "metadata": {},
     "output_type": "execute_result"
    }
   ],
   "source": [
    "sim_pearson(critics, 'Lisa Rose', 'Gene Seymour')"
   ]
  }
 ],
 "metadata": {
  "kernelspec": {
   "display_name": "Python 2",
   "language": "python",
   "name": "python2"
  },
  "language_info": {
   "codemirror_mode": {
    "name": "ipython",
    "version": 2
   },
   "file_extension": ".py",
   "mimetype": "text/x-python",
   "name": "python",
   "nbconvert_exporter": "python",
   "pygments_lexer": "ipython2",
   "version": "2.7.10"
  }
 },
 "nbformat": 4,
 "nbformat_minor": 0
}
